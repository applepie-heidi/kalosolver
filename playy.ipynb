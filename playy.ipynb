{
 "cells": [
  {
   "cell_type": "code",
   "execution_count": 45,
   "metadata": {
    "collapsed": true
   },
   "outputs": [
    {
     "name": "stdout",
     "output_type": "stream",
     "text": [
      "Number of edges 25\n",
      "Number of edges 21019\n"
     ]
    }
   ],
   "source": [
    "import importlib\n",
    "import graph as glib\n",
    "\n",
    "importlib.reload(glib)\n",
    "\n",
    "graph = glib.Graph(filename=\"generirane_rijeci.txt\")\n",
    "graph = glib.Graph(filename=\"rijeci.txt\")\n",
    "model, costs, variables = graph.create_graph_model()\n",
    "\n",
    "def print_model(model, variables, rjust_n):\n",
    "    print(\"\".rjust(rjust_n),end=\"\")\n",
    "    for out_node, in_node in variables:\n",
    "        print(f\"{out_node}-{in_node}\".rjust(rjust_n), end=\"\")\n",
    "    print()\n",
    "    for row_i in range(len(model)):\n",
    "        print(f\"{row_i}\".rjust(rjust_n), end=\"\")\n",
    "        for element in model[row_i]:\n",
    "            print(repr(element).rjust(rjust_n), end=\"\")\n",
    "        print()\n",
    "\n",
    "#print_model(model, variables, 5)"
   ]
  },
  {
   "cell_type": "code",
   "execution_count": 46,
   "outputs": [],
   "source": [
    "import pygraphviz as pgv\n",
    "from IPython.display import Image, display\n",
    "\n",
    "\n",
    "def agraph(graph, solutions_or_maybe_graph2=None):\n",
    "    ag = pgv.AGraph(strict=False, directed=True)\n",
    "\n",
    "    for node in range(len(graph)):\n",
    "        if node == 0:\n",
    "            ag.add_node(node, label=\"s\")\n",
    "        elif node == len(graph) - 1:\n",
    "            ag.add_node(node, label=\"t\")\n",
    "        else:\n",
    "            ag.add_node(node)\n",
    "    for u, destinations in enumerate(graph):\n",
    "        for v, weight in destinations:\n",
    "            for i in range(int(weight)):\n",
    "                ag.add_edge(u, v, color=\"black\" if u == 0 or u == len(graph) - 1 else \"cyan\")\n",
    "    return ag\n",
    "\n",
    "\n",
    "def show_graph(graph):\n",
    "    ag = agraph(graph)\n",
    "    image = Image(ag.draw(format='png', prog='dot'))\n",
    "    display(image)\n",
    "\n",
    "#print(model[1])\n",
    "#show_graph(graph.graph)"
   ],
   "metadata": {
    "collapsed": false,
    "pycharm": {
     "name": "#%%\n"
    }
   }
  },
  {
   "cell_type": "code",
   "execution_count": 47,
   "outputs": [
    {
     "name": "stdout",
     "output_type": "stream",
     "text": [
      "==================\n",
      "        message: Optimization terminated successfully. (HiGHS Status 7: Optimal)\n",
      "        success: True\n",
      "         status: 0\n",
      "            fun: -27644.0\n",
      "              x: [ 0.000e+00  0.000e+00 ...  1.000e+00  1.000e+00]\n",
      " mip_node_count: 1\n",
      " mip_dual_bound: -27644.0\n",
      "        mip_gap: 0.0\n",
      "==================\n",
      "21193\n"
     ]
    },
    {
     "ename": "KeyboardInterrupt",
     "evalue": "",
     "output_type": "error",
     "traceback": [
      "\u001B[0;31m---------------------------------------------------------------------------\u001B[0m",
      "\u001B[0;31mKeyboardInterrupt\u001B[0m                         Traceback (most recent call last)",
      "Cell \u001B[0;32mIn[47], line 11\u001B[0m\n\u001B[1;32m      7\u001B[0m \u001B[38;5;28mprint\u001B[39m(\u001B[38;5;28mlen\u001B[39m(solution))\n\u001B[1;32m      9\u001B[0m optimized_graph \u001B[38;5;241m=\u001B[39m graph\u001B[38;5;241m.\u001B[39mcreate_optimized_graph(solution, variables)\n\u001B[0;32m---> 11\u001B[0m \u001B[43mshow_graph\u001B[49m\u001B[43m(\u001B[49m\u001B[43moptimized_graph\u001B[49m\u001B[43m)\u001B[49m\n",
      "Cell \u001B[0;32mIn[46], line 24\u001B[0m, in \u001B[0;36mshow_graph\u001B[0;34m(graph)\u001B[0m\n\u001B[1;32m     22\u001B[0m \u001B[38;5;28;01mdef\u001B[39;00m \u001B[38;5;21mshow_graph\u001B[39m(graph):\n\u001B[1;32m     23\u001B[0m     ag \u001B[38;5;241m=\u001B[39m agraph(graph)\n\u001B[0;32m---> 24\u001B[0m     image \u001B[38;5;241m=\u001B[39m Image(\u001B[43mag\u001B[49m\u001B[38;5;241;43m.\u001B[39;49m\u001B[43mdraw\u001B[49m\u001B[43m(\u001B[49m\u001B[38;5;28;43mformat\u001B[39;49m\u001B[38;5;241;43m=\u001B[39;49m\u001B[38;5;124;43m'\u001B[39;49m\u001B[38;5;124;43mpng\u001B[39;49m\u001B[38;5;124;43m'\u001B[39;49m\u001B[43m,\u001B[49m\u001B[43m \u001B[49m\u001B[43mprog\u001B[49m\u001B[38;5;241;43m=\u001B[39;49m\u001B[38;5;124;43m'\u001B[39;49m\u001B[38;5;124;43mdot\u001B[39;49m\u001B[38;5;124;43m'\u001B[39;49m\u001B[43m)\u001B[49m)\n\u001B[1;32m     25\u001B[0m     display(image)\n",
      "File \u001B[0;32m~/Documents/fer/year4/sem/kalosolver/.venv/lib/python3.8/site-packages/pygraphviz/agraph.py:1611\u001B[0m, in \u001B[0;36mAGraph.draw\u001B[0;34m(self, path, format, prog, args)\u001B[0m\n\u001B[1;32m   1608\u001B[0m \u001B[38;5;28;01melse\u001B[39;00m:\n\u001B[1;32m   1609\u001B[0m     args \u001B[38;5;241m=\u001B[39m \u001B[38;5;124m\"\u001B[39m\u001B[38;5;124m \u001B[39m\u001B[38;5;124m\"\u001B[39m\u001B[38;5;241m.\u001B[39mjoin([args, \u001B[38;5;124m\"\u001B[39m\u001B[38;5;124m-T\u001B[39m\u001B[38;5;124m\"\u001B[39m \u001B[38;5;241m+\u001B[39m \u001B[38;5;28mformat\u001B[39m])\n\u001B[0;32m-> 1611\u001B[0m data \u001B[38;5;241m=\u001B[39m \u001B[38;5;28;43mself\u001B[39;49m\u001B[38;5;241;43m.\u001B[39;49m\u001B[43m_run_prog\u001B[49m\u001B[43m(\u001B[49m\u001B[43mprog\u001B[49m\u001B[43m,\u001B[49m\u001B[43m \u001B[49m\u001B[43margs\u001B[49m\u001B[43m)\u001B[49m\n\u001B[1;32m   1613\u001B[0m \u001B[38;5;28;01mif\u001B[39;00m path \u001B[38;5;129;01mis\u001B[39;00m \u001B[38;5;129;01mnot\u001B[39;00m \u001B[38;5;28;01mNone\u001B[39;00m:\n\u001B[1;32m   1614\u001B[0m     fh \u001B[38;5;241m=\u001B[39m \u001B[38;5;28mself\u001B[39m\u001B[38;5;241m.\u001B[39m_get_fh(path, \u001B[38;5;124m\"\u001B[39m\u001B[38;5;124mw+b\u001B[39m\u001B[38;5;124m\"\u001B[39m)\n",
      "File \u001B[0;32m~/Documents/fer/year4/sem/kalosolver/.venv/lib/python3.8/site-packages/pygraphviz/agraph.py:1398\u001B[0m, in \u001B[0;36mAGraph._run_prog\u001B[0;34m(self, prog, args)\u001B[0m\n\u001B[1;32m   1395\u001B[0m child_stdin\u001B[38;5;241m.\u001B[39mclose()\n\u001B[1;32m   1397\u001B[0m \u001B[38;5;28;01mfor\u001B[39;00m t \u001B[38;5;129;01min\u001B[39;00m threads:\n\u001B[0;32m-> 1398\u001B[0m     \u001B[43mt\u001B[49m\u001B[38;5;241;43m.\u001B[39;49m\u001B[43mjoin\u001B[49m\u001B[43m(\u001B[49m\u001B[43m)\u001B[49m\n\u001B[1;32m   1399\u001B[0m p\u001B[38;5;241m.\u001B[39mwait()\n\u001B[1;32m   1401\u001B[0m \u001B[38;5;28;01mif\u001B[39;00m \u001B[38;5;129;01mnot\u001B[39;00m data:\n",
      "File \u001B[0;32m/usr/lib/python3.8/threading.py:1011\u001B[0m, in \u001B[0;36mThread.join\u001B[0;34m(self, timeout)\u001B[0m\n\u001B[1;32m   1008\u001B[0m     \u001B[38;5;28;01mraise\u001B[39;00m \u001B[38;5;167;01mRuntimeError\u001B[39;00m(\u001B[38;5;124m\"\u001B[39m\u001B[38;5;124mcannot join current thread\u001B[39m\u001B[38;5;124m\"\u001B[39m)\n\u001B[1;32m   1010\u001B[0m \u001B[38;5;28;01mif\u001B[39;00m timeout \u001B[38;5;129;01mis\u001B[39;00m \u001B[38;5;28;01mNone\u001B[39;00m:\n\u001B[0;32m-> 1011\u001B[0m     \u001B[38;5;28;43mself\u001B[39;49m\u001B[38;5;241;43m.\u001B[39;49m\u001B[43m_wait_for_tstate_lock\u001B[49m\u001B[43m(\u001B[49m\u001B[43m)\u001B[49m\n\u001B[1;32m   1012\u001B[0m \u001B[38;5;28;01melse\u001B[39;00m:\n\u001B[1;32m   1013\u001B[0m     \u001B[38;5;66;03m# the behavior of a negative timeout isn't documented, but\u001B[39;00m\n\u001B[1;32m   1014\u001B[0m     \u001B[38;5;66;03m# historically .join(timeout=x) for x<0 has acted as if timeout=0\u001B[39;00m\n\u001B[1;32m   1015\u001B[0m     \u001B[38;5;28mself\u001B[39m\u001B[38;5;241m.\u001B[39m_wait_for_tstate_lock(timeout\u001B[38;5;241m=\u001B[39m\u001B[38;5;28mmax\u001B[39m(timeout, \u001B[38;5;241m0\u001B[39m))\n",
      "File \u001B[0;32m/usr/lib/python3.8/threading.py:1027\u001B[0m, in \u001B[0;36mThread._wait_for_tstate_lock\u001B[0;34m(self, block, timeout)\u001B[0m\n\u001B[1;32m   1025\u001B[0m \u001B[38;5;28;01mif\u001B[39;00m lock \u001B[38;5;129;01mis\u001B[39;00m \u001B[38;5;28;01mNone\u001B[39;00m:  \u001B[38;5;66;03m# already determined that the C code is done\u001B[39;00m\n\u001B[1;32m   1026\u001B[0m     \u001B[38;5;28;01massert\u001B[39;00m \u001B[38;5;28mself\u001B[39m\u001B[38;5;241m.\u001B[39m_is_stopped\n\u001B[0;32m-> 1027\u001B[0m \u001B[38;5;28;01melif\u001B[39;00m \u001B[43mlock\u001B[49m\u001B[38;5;241;43m.\u001B[39;49m\u001B[43macquire\u001B[49m\u001B[43m(\u001B[49m\u001B[43mblock\u001B[49m\u001B[43m,\u001B[49m\u001B[43m \u001B[49m\u001B[43mtimeout\u001B[49m\u001B[43m)\u001B[49m:\n\u001B[1;32m   1028\u001B[0m     lock\u001B[38;5;241m.\u001B[39mrelease()\n\u001B[1;32m   1029\u001B[0m     \u001B[38;5;28mself\u001B[39m\u001B[38;5;241m.\u001B[39m_stop()\n",
      "\u001B[0;31mKeyboardInterrupt\u001B[0m: "
     ]
    }
   ],
   "source": [
    "import lp_solver as lpslib\n",
    "\n",
    "importlib.reload(lpslib)\n",
    "\n",
    "solution = lpslib.solve_scipy_model(model, costs)\n",
    "#print(solution)\n",
    "print(len(solution))\n",
    "\n",
    "optimized_graph = graph.create_optimized_graph(solution, variables)\n",
    "\n",
    "show_graph(optimized_graph)"
   ],
   "metadata": {
    "collapsed": false,
    "pycharm": {
     "name": "#%%\n"
    }
   }
  },
  {
   "cell_type": "code",
   "execution_count": 52,
   "outputs": [
    {
     "name": "stdout",
     "output_type": "stream",
     "text": [
      "Number of edges 25\n",
      "   0-11-11-21-1\n",
      "  0 -1  0  0  0\n",
      "  1  1 -1 -1  1\n",
      "  2  0  0  1  0\n",
      "[1, 1, 1, 1]\n",
      "[(0, 1), (1, 1), (1, 2), (1, 1)]\n",
      "==================\n",
      "        message: Optimization terminated successfully. (HiGHS Status 7: Optimal)\n",
      "        success: True\n",
      "         status: 0\n",
      "            fun: -4.0\n",
      "              x: [ 1.000e+00  1.000e+00  1.000e+00  1.000e+00]\n",
      " mip_node_count: 0\n",
      " mip_dual_bound: -4.0\n",
      "        mip_gap: 0.0\n",
      "==================\n"
     ]
    },
    {
     "data": {
      "text/plain": "array([1., 1., 1., 1.])"
     },
     "execution_count": 52,
     "metadata": {},
     "output_type": "execute_result"
    }
   ],
   "source": [
    "g = [\n",
    "    [(1,1)],\n",
    "    [(1,1), (2,1)],\n",
    "    [],\n",
    "]\n",
    "graph_class = glib.Graph(filename=\"generirane_rijeci.txt\")\n",
    "graph_class.graph = g\n",
    "graph_class.edges_num = 3\n",
    "m, c, v = graph_class.create_graph_model()\n",
    "print_model(m,v,3)\n",
    "print(c)\n",
    "print(v)\n",
    "s = lpslib.solve_scipy_model(m, c)\n",
    "s"
   ],
   "metadata": {
    "collapsed": false,
    "pycharm": {
     "name": "#%%\n"
    }
   }
  }
 ],
 "metadata": {
  "kernelspec": {
   "display_name": "Python 3",
   "language": "python",
   "name": "python3"
  },
  "language_info": {
   "codemirror_mode": {
    "name": "ipython",
    "version": 2
   },
   "file_extension": ".py",
   "mimetype": "text/x-python",
   "name": "python",
   "nbconvert_exporter": "python",
   "pygments_lexer": "ipython2",
   "version": "2.7.6"
  }
 },
 "nbformat": 4,
 "nbformat_minor": 0
}